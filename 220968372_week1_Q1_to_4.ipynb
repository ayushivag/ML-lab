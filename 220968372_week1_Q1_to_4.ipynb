{
 "cells": [
  {
   "cell_type": "markdown",
   "id": "69bfd9bd",
   "metadata": {},
   "source": [
    "# WEEK -1"
   ]
  },
  {
   "cell_type": "markdown",
   "id": "56f1f724",
   "metadata": {},
   "source": [
    "# 1. Find the mean, median, mode, variance, and standard deviation of a list. (import statistics)"
   ]
  },
  {
   "cell_type": "code",
   "execution_count": 9,
   "id": "0732868a",
   "metadata": {},
   "outputs": [
    {
     "name": "stdout",
     "output_type": "stream",
     "text": [
      "16.166666666666668\n"
     ]
    }
   ],
   "source": [
    "import statistics \n",
    "import math\n",
    "l={2,3,4,5,5,5,6,77}\n",
    "print(statistics.mean(l))"
   ]
  },
  {
   "cell_type": "code",
   "execution_count": 10,
   "id": "057a7359",
   "metadata": {},
   "outputs": [
    {
     "name": "stdout",
     "output_type": "stream",
     "text": [
      "4.5\n"
     ]
    }
   ],
   "source": [
    "print(statistics.median(l))"
   ]
  },
  {
   "cell_type": "code",
   "execution_count": 11,
   "id": "44ce1df7",
   "metadata": {},
   "outputs": [
    {
     "name": "stdout",
     "output_type": "stream",
     "text": [
      "2\n"
     ]
    }
   ],
   "source": [
    "print(statistics.mode(l))"
   ]
  },
  {
   "cell_type": "code",
   "execution_count": 12,
   "id": "ac2ab22c",
   "metadata": {},
   "outputs": [
    {
     "name": "stdout",
     "output_type": "stream",
     "text": [
      "890.1666666666666\n"
     ]
    }
   ],
   "source": [
    "print(statistics.variance(l))"
   ]
  },
  {
   "cell_type": "code",
   "execution_count": 14,
   "id": "a999a803",
   "metadata": {},
   "outputs": [
    {
     "name": "stdout",
     "output_type": "stream",
     "text": [
      "29.835660989270316\n"
     ]
    }
   ],
   "source": [
    "print(statistics.stdev(l))"
   ]
  },
  {
   "cell_type": "markdown",
   "id": "f4db898f",
   "metadata": {},
   "source": [
    "# 2. Create a list of numbers and use list comprehension to generate a new list with the squares of each number."
   ]
  },
  {
   "cell_type": "code",
   "execution_count": 19,
   "id": "fd8151a2",
   "metadata": {},
   "outputs": [
    {
     "name": "stdout",
     "output_type": "stream",
     "text": [
      "[4, 9]\n",
      "[1, 4, 9, 16, 25]\n",
      "[0, 1, 4, 9, 16, 25, 36, 49, 64, 81, 100]\n"
     ]
    }
   ],
   "source": [
    "def squares(start, end):\n",
    "\treturn [ n*n for n in range(start, end+1) ]\n",
    "\n",
    "print(squares(2, 3))\n",
    "print(squares(1, 5))\n",
    "print(squares(0, 10)) "
   ]
  },
  {
   "cell_type": "markdown",
   "id": "9c718288",
   "metadata": {},
   "source": [
    "# 3. Write a function that takes a tuple of numbers and returns the product of all the elements"
   ]
  },
  {
   "cell_type": "code",
   "execution_count": 22,
   "id": "09735f47",
   "metadata": {},
   "outputs": [
    {
     "name": "stdout",
     "output_type": "stream",
     "text": [
      "the original tupple is: (7, 8, 9, 1, 10, 7)\n",
      "the product of tupple is: 35280\n"
     ]
    }
   ],
   "source": [
    "import numpy as np\n",
    "test_tup = (7, 8, 9, 1, 10, 7)\n",
    "print(\"the original tupple is: \" +str(test_tup))\n",
    "result=np.prod(test_tup)\n",
    "print(\"the product of tupple is: \" +str(result))"
   ]
  },
  {
   "cell_type": "markdown",
   "id": "004ef356",
   "metadata": {},
   "source": [
    "# 4. Write a program that counts the frequency of each letter in each string and stores the results in a dictionary. "
   ]
  },
  {
   "cell_type": "code",
   "execution_count": 40,
   "id": "51e5f2af",
   "metadata": {},
   "outputs": [
    {
     "name": "stdout",
     "output_type": "stream",
     "text": [
      "{'t': 2, 'o': 1, 'd': 2, 'a': 4, 'y': 2, ' ': 4, 'i': 2, 's': 1, 'b': 1, 'e': 1, 'u': 2, 'f': 1, 'l': 1, '.': 1}\n"
     ]
    }
   ],
   "source": [
    "def char_frequency(str1):\n",
    "    dict = {}\n",
    "    for n in str1:\n",
    "        keys = dict.keys()\n",
    "        if n in keys:\n",
    "            dict[n] += 1   \n",
    "        else:\n",
    "            dict[n] = 1\n",
    "    return dict\n",
    "print(char_frequency('today is a beautiful day.')) "
   ]
  }
 ],
 "metadata": {
  "kernelspec": {
   "display_name": "Python 3 (ipykernel)",
   "language": "python",
   "name": "python3"
  },
  "language_info": {
   "codemirror_mode": {
    "name": "ipython",
    "version": 3
   },
   "file_extension": ".py",
   "mimetype": "text/x-python",
   "name": "python",
   "nbconvert_exporter": "python",
   "pygments_lexer": "ipython3",
   "version": "3.11.4"
  }
 },
 "nbformat": 4,
 "nbformat_minor": 5
}
