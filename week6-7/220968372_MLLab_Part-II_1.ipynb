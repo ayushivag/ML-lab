{
 "cells": [
  {
   "cell_type": "markdown",
   "id": "fc8f1be0",
   "metadata": {},
   "source": [
    "# NAIVE BAYES: PULSAR DATASET"
   ]
  },
  {
   "cell_type": "markdown",
   "id": "76e43661",
   "metadata": {},
   "source": [
    "## Q1. Import libraries"
   ]
  },
  {
   "cell_type": "code",
   "execution_count": 1,
   "id": "06a80362",
   "metadata": {},
   "outputs": [],
   "source": [
    "import pandas as pd\n",
    "import numpy as np\n",
    "import seaborn as sns\n",
    "import matplotlib.pyplot as plt\n",
    "pd.set_option('display.max_columns', None) "
   ]
  },
  {
   "cell_type": "markdown",
   "id": "58b77562",
   "metadata": {},
   "source": [
    "## Q2. Import dataset"
   ]
  },
  {
   "cell_type": "code",
   "execution_count": 37,
   "id": "32772bd5",
   "metadata": {},
   "outputs": [],
   "source": [
    "a=pd.read_csv('pulsar_data.csv')"
   ]
  },
  {
   "cell_type": "markdown",
   "id": "bd3189bd",
   "metadata": {},
   "source": [
    "## Q3. Explore the data to gain insights about the data"
   ]
  },
  {
   "cell_type": "code",
   "execution_count": 38,
   "id": "73e73b17",
   "metadata": {},
   "outputs": [
    {
     "data": {
      "text/plain": [
       "(12528, 9)"
      ]
     },
     "execution_count": 38,
     "metadata": {},
     "output_type": "execute_result"
    }
   ],
   "source": [
    "a.shape"
   ]
  },
  {
   "cell_type": "code",
   "execution_count": 39,
   "id": "e66f8ef3",
   "metadata": {},
   "outputs": [
    {
     "data": {
      "text/html": [
       "<div>\n",
       "<style scoped>\n",
       "    .dataframe tbody tr th:only-of-type {\n",
       "        vertical-align: middle;\n",
       "    }\n",
       "\n",
       "    .dataframe tbody tr th {\n",
       "        vertical-align: top;\n",
       "    }\n",
       "\n",
       "    .dataframe thead th {\n",
       "        text-align: right;\n",
       "    }\n",
       "</style>\n",
       "<table border=\"1\" class=\"dataframe\">\n",
       "  <thead>\n",
       "    <tr style=\"text-align: right;\">\n",
       "      <th></th>\n",
       "      <th>Mean of the integrated profile</th>\n",
       "      <th>Standard deviation of the integrated profile</th>\n",
       "      <th>Excess kurtosis of the integrated profile</th>\n",
       "      <th>Skewness of the integrated profile</th>\n",
       "      <th>Mean of the DM-SNR curve</th>\n",
       "      <th>Standard deviation of the DM-SNR curve</th>\n",
       "      <th>Excess kurtosis of the DM-SNR curve</th>\n",
       "      <th>Skewness of the DM-SNR curve</th>\n",
       "      <th>target_class</th>\n",
       "    </tr>\n",
       "  </thead>\n",
       "  <tbody>\n",
       "    <tr>\n",
       "      <th>0</th>\n",
       "      <td>121.156250</td>\n",
       "      <td>48.372971</td>\n",
       "      <td>0.375485</td>\n",
       "      <td>-0.013165</td>\n",
       "      <td>3.168896</td>\n",
       "      <td>18.399367</td>\n",
       "      <td>7.449874</td>\n",
       "      <td>65.159298</td>\n",
       "      <td>0.0</td>\n",
       "    </tr>\n",
       "    <tr>\n",
       "      <th>1</th>\n",
       "      <td>76.968750</td>\n",
       "      <td>36.175557</td>\n",
       "      <td>0.712898</td>\n",
       "      <td>3.388719</td>\n",
       "      <td>2.399666</td>\n",
       "      <td>17.570997</td>\n",
       "      <td>9.414652</td>\n",
       "      <td>102.722975</td>\n",
       "      <td>0.0</td>\n",
       "    </tr>\n",
       "    <tr>\n",
       "      <th>2</th>\n",
       "      <td>130.585938</td>\n",
       "      <td>53.229534</td>\n",
       "      <td>0.133408</td>\n",
       "      <td>-0.297242</td>\n",
       "      <td>2.743311</td>\n",
       "      <td>22.362553</td>\n",
       "      <td>8.508364</td>\n",
       "      <td>74.031324</td>\n",
       "      <td>0.0</td>\n",
       "    </tr>\n",
       "    <tr>\n",
       "      <th>3</th>\n",
       "      <td>156.398438</td>\n",
       "      <td>48.865942</td>\n",
       "      <td>-0.215989</td>\n",
       "      <td>-0.171294</td>\n",
       "      <td>17.471572</td>\n",
       "      <td>NaN</td>\n",
       "      <td>2.958066</td>\n",
       "      <td>7.197842</td>\n",
       "      <td>0.0</td>\n",
       "    </tr>\n",
       "    <tr>\n",
       "      <th>4</th>\n",
       "      <td>84.804688</td>\n",
       "      <td>36.117659</td>\n",
       "      <td>0.825013</td>\n",
       "      <td>3.274125</td>\n",
       "      <td>2.790134</td>\n",
       "      <td>20.618009</td>\n",
       "      <td>8.405008</td>\n",
       "      <td>76.291128</td>\n",
       "      <td>0.0</td>\n",
       "    </tr>\n",
       "  </tbody>\n",
       "</table>\n",
       "</div>"
      ],
      "text/plain": [
       "    Mean of the integrated profile  \\\n",
       "0                       121.156250   \n",
       "1                        76.968750   \n",
       "2                       130.585938   \n",
       "3                       156.398438   \n",
       "4                        84.804688   \n",
       "\n",
       "    Standard deviation of the integrated profile  \\\n",
       "0                                      48.372971   \n",
       "1                                      36.175557   \n",
       "2                                      53.229534   \n",
       "3                                      48.865942   \n",
       "4                                      36.117659   \n",
       "\n",
       "    Excess kurtosis of the integrated profile  \\\n",
       "0                                    0.375485   \n",
       "1                                    0.712898   \n",
       "2                                    0.133408   \n",
       "3                                   -0.215989   \n",
       "4                                    0.825013   \n",
       "\n",
       "    Skewness of the integrated profile   Mean of the DM-SNR curve  \\\n",
       "0                            -0.013165                   3.168896   \n",
       "1                             3.388719                   2.399666   \n",
       "2                            -0.297242                   2.743311   \n",
       "3                            -0.171294                  17.471572   \n",
       "4                             3.274125                   2.790134   \n",
       "\n",
       "    Standard deviation of the DM-SNR curve  \\\n",
       "0                                18.399367   \n",
       "1                                17.570997   \n",
       "2                                22.362553   \n",
       "3                                      NaN   \n",
       "4                                20.618009   \n",
       "\n",
       "    Excess kurtosis of the DM-SNR curve   Skewness of the DM-SNR curve  \\\n",
       "0                              7.449874                      65.159298   \n",
       "1                              9.414652                     102.722975   \n",
       "2                              8.508364                      74.031324   \n",
       "3                              2.958066                       7.197842   \n",
       "4                              8.405008                      76.291128   \n",
       "\n",
       "   target_class  \n",
       "0           0.0  \n",
       "1           0.0  \n",
       "2           0.0  \n",
       "3           0.0  \n",
       "4           0.0  "
      ]
     },
     "execution_count": 39,
     "metadata": {},
     "output_type": "execute_result"
    }
   ],
   "source": [
    "a.head()"
   ]
  },
  {
   "cell_type": "code",
   "execution_count": 40,
   "id": "3f6c5ec1",
   "metadata": {},
   "outputs": [
    {
     "data": {
      "text/plain": [
       "Index([' Mean of the integrated profile',\n",
       "       ' Standard deviation of the integrated profile',\n",
       "       ' Excess kurtosis of the integrated profile',\n",
       "       ' Skewness of the integrated profile', ' Mean of the DM-SNR curve',\n",
       "       ' Standard deviation of the DM-SNR curve',\n",
       "       ' Excess kurtosis of the DM-SNR curve', ' Skewness of the DM-SNR curve',\n",
       "       'target_class'],\n",
       "      dtype='object')"
      ]
     },
     "execution_count": 40,
     "metadata": {},
     "output_type": "execute_result"
    }
   ],
   "source": [
    "a.columns"
   ]
  },
  {
   "cell_type": "code",
   "execution_count": 41,
   "id": "a0280144",
   "metadata": {},
   "outputs": [
    {
     "data": {
      "text/plain": [
       "Index(['Mean of the integrated profile',\n",
       "       'Standard deviation of the integrated profile',\n",
       "       'Excess kurtosis of the integrated profile',\n",
       "       'Skewness of the integrated profile', 'Mean of the DM-SNR curve',\n",
       "       'Standard deviation of the DM-SNR curve',\n",
       "       'Excess kurtosis of the DM-SNR curve', 'Skewness of the DM-SNR curve',\n",
       "       'target_class'],\n",
       "      dtype='object')"
      ]
     },
     "execution_count": 41,
     "metadata": {},
     "output_type": "execute_result"
    }
   ],
   "source": [
    "a.columns=a.columns.str.strip()\n",
    "a.columns"
   ]
  },
  {
   "cell_type": "code",
   "execution_count": 42,
   "id": "446a8c4a",
   "metadata": {},
   "outputs": [],
   "source": [
    "a.rename(columns={\n",
    "    'Mean of the integrated profile': 'mean_integrated_profile',\n",
    "    'Standard deviation of the integrated profile': 'std_dev_integrated_profile',\n",
    "    'Excess kurtosis of the integrated profile': 'excess_kurtosis_integrated_profile',\n",
    "    'Skewness of the integrated profile': 'skewness_integrated_profile',\n",
    "    'Mean of the DM-SNR curve': 'mean_dmsnr_curve',\n",
    "    'Standard deviation of the DM-SNR curve': 'std_dev_dmsnr_curve',\n",
    "    'Excess kurtosis of the DM-SNR curve': 'excess_kurtosis_dmsnr_curve',\n",
    "    'Skewness of the DM-SNR curve': 'skewness_dmsnr_curve'\n",
    "}, inplace=True)\n"
   ]
  },
  {
   "cell_type": "code",
   "execution_count": 43,
   "id": "61a536b1",
   "metadata": {},
   "outputs": [
    {
     "data": {
      "text/plain": [
       "Index(['mean_integrated_profile', 'std_dev_integrated_profile',\n",
       "       'excess_kurtosis_integrated_profile', 'skewness_integrated_profile',\n",
       "       'mean_dmsnr_curve', 'std_dev_dmsnr_curve',\n",
       "       'excess_kurtosis_dmsnr_curve', 'skewness_dmsnr_curve', 'target_class'],\n",
       "      dtype='object')"
      ]
     },
     "execution_count": 43,
     "metadata": {},
     "output_type": "execute_result"
    }
   ],
   "source": [
    "a.columns"
   ]
  },
  {
   "cell_type": "code",
   "execution_count": 45,
   "id": "d524c7d1",
   "metadata": {},
   "outputs": [
    {
     "data": {
      "text/html": [
       "<div>\n",
       "<style scoped>\n",
       "    .dataframe tbody tr th:only-of-type {\n",
       "        vertical-align: middle;\n",
       "    }\n",
       "\n",
       "    .dataframe tbody tr th {\n",
       "        vertical-align: top;\n",
       "    }\n",
       "\n",
       "    .dataframe thead th {\n",
       "        text-align: right;\n",
       "    }\n",
       "</style>\n",
       "<table border=\"1\" class=\"dataframe\">\n",
       "  <thead>\n",
       "    <tr style=\"text-align: right;\">\n",
       "      <th></th>\n",
       "      <th>mean_integrated_profile</th>\n",
       "      <th>std_dev_integrated_profile</th>\n",
       "      <th>excess_kurtosis_integrated_profile</th>\n",
       "      <th>skewness_integrated_profile</th>\n",
       "      <th>mean_dmsnr_curve</th>\n",
       "      <th>std_dev_dmsnr_curve</th>\n",
       "      <th>excess_kurtosis_dmsnr_curve</th>\n",
       "      <th>skewness_dmsnr_curve</th>\n",
       "      <th>target_class</th>\n",
       "    </tr>\n",
       "  </thead>\n",
       "  <tbody>\n",
       "    <tr>\n",
       "      <th>count</th>\n",
       "      <td>12528.000000</td>\n",
       "      <td>12528.000000</td>\n",
       "      <td>10793.000000</td>\n",
       "      <td>12528.000000</td>\n",
       "      <td>12528.000000</td>\n",
       "      <td>11350.000000</td>\n",
       "      <td>12528.000000</td>\n",
       "      <td>11903.000000</td>\n",
       "      <td>12528.000000</td>\n",
       "    </tr>\n",
       "    <tr>\n",
       "      <th>mean</th>\n",
       "      <td>111.041841</td>\n",
       "      <td>46.521437</td>\n",
       "      <td>0.478548</td>\n",
       "      <td>1.778431</td>\n",
       "      <td>12.674758</td>\n",
       "      <td>26.351318</td>\n",
       "      <td>8.333489</td>\n",
       "      <td>105.525779</td>\n",
       "      <td>0.092034</td>\n",
       "    </tr>\n",
       "    <tr>\n",
       "      <th>std</th>\n",
       "      <td>25.672828</td>\n",
       "      <td>6.801077</td>\n",
       "      <td>1.064708</td>\n",
       "      <td>6.208450</td>\n",
       "      <td>29.613230</td>\n",
       "      <td>19.610842</td>\n",
       "      <td>4.535783</td>\n",
       "      <td>107.399585</td>\n",
       "      <td>0.289085</td>\n",
       "    </tr>\n",
       "    <tr>\n",
       "      <th>min</th>\n",
       "      <td>5.812500</td>\n",
       "      <td>24.772042</td>\n",
       "      <td>-1.738021</td>\n",
       "      <td>-1.791886</td>\n",
       "      <td>0.213211</td>\n",
       "      <td>7.370432</td>\n",
       "      <td>-3.139270</td>\n",
       "      <td>-1.976976</td>\n",
       "      <td>0.000000</td>\n",
       "    </tr>\n",
       "    <tr>\n",
       "      <th>25%</th>\n",
       "      <td>100.871094</td>\n",
       "      <td>42.362222</td>\n",
       "      <td>0.024652</td>\n",
       "      <td>-0.188142</td>\n",
       "      <td>1.910535</td>\n",
       "      <td>14.404353</td>\n",
       "      <td>5.803063</td>\n",
       "      <td>35.199899</td>\n",
       "      <td>0.000000</td>\n",
       "    </tr>\n",
       "    <tr>\n",
       "      <th>50%</th>\n",
       "      <td>115.183594</td>\n",
       "      <td>46.931022</td>\n",
       "      <td>0.223678</td>\n",
       "      <td>0.203317</td>\n",
       "      <td>2.792642</td>\n",
       "      <td>18.412402</td>\n",
       "      <td>8.451097</td>\n",
       "      <td>83.126301</td>\n",
       "      <td>0.000000</td>\n",
       "    </tr>\n",
       "    <tr>\n",
       "      <th>75%</th>\n",
       "      <td>127.109375</td>\n",
       "      <td>50.979103</td>\n",
       "      <td>0.473125</td>\n",
       "      <td>0.932374</td>\n",
       "      <td>5.413253</td>\n",
       "      <td>28.337418</td>\n",
       "      <td>10.727927</td>\n",
       "      <td>139.997850</td>\n",
       "      <td>0.000000</td>\n",
       "    </tr>\n",
       "    <tr>\n",
       "      <th>max</th>\n",
       "      <td>189.734375</td>\n",
       "      <td>91.808628</td>\n",
       "      <td>8.069522</td>\n",
       "      <td>68.101622</td>\n",
       "      <td>222.421405</td>\n",
       "      <td>110.642211</td>\n",
       "      <td>34.539844</td>\n",
       "      <td>1191.000837</td>\n",
       "      <td>1.000000</td>\n",
       "    </tr>\n",
       "  </tbody>\n",
       "</table>\n",
       "</div>"
      ],
      "text/plain": [
       "       mean_integrated_profile  std_dev_integrated_profile  \\\n",
       "count             12528.000000                12528.000000   \n",
       "mean                111.041841                   46.521437   \n",
       "std                  25.672828                    6.801077   \n",
       "min                   5.812500                   24.772042   \n",
       "25%                 100.871094                   42.362222   \n",
       "50%                 115.183594                   46.931022   \n",
       "75%                 127.109375                   50.979103   \n",
       "max                 189.734375                   91.808628   \n",
       "\n",
       "       excess_kurtosis_integrated_profile  skewness_integrated_profile  \\\n",
       "count                        10793.000000                 12528.000000   \n",
       "mean                             0.478548                     1.778431   \n",
       "std                              1.064708                     6.208450   \n",
       "min                             -1.738021                    -1.791886   \n",
       "25%                              0.024652                    -0.188142   \n",
       "50%                              0.223678                     0.203317   \n",
       "75%                              0.473125                     0.932374   \n",
       "max                              8.069522                    68.101622   \n",
       "\n",
       "       mean_dmsnr_curve  std_dev_dmsnr_curve  excess_kurtosis_dmsnr_curve  \\\n",
       "count      12528.000000         11350.000000                 12528.000000   \n",
       "mean          12.674758            26.351318                     8.333489   \n",
       "std           29.613230            19.610842                     4.535783   \n",
       "min            0.213211             7.370432                    -3.139270   \n",
       "25%            1.910535            14.404353                     5.803063   \n",
       "50%            2.792642            18.412402                     8.451097   \n",
       "75%            5.413253            28.337418                    10.727927   \n",
       "max          222.421405           110.642211                    34.539844   \n",
       "\n",
       "       skewness_dmsnr_curve  target_class  \n",
       "count          11903.000000  12528.000000  \n",
       "mean             105.525779      0.092034  \n",
       "std              107.399585      0.289085  \n",
       "min               -1.976976      0.000000  \n",
       "25%               35.199899      0.000000  \n",
       "50%               83.126301      0.000000  \n",
       "75%              139.997850      0.000000  \n",
       "max             1191.000837      1.000000  "
      ]
     },
     "execution_count": 45,
     "metadata": {},
     "output_type": "execute_result"
    }
   ],
   "source": [
    "a.describe()"
   ]
  },
  {
   "cell_type": "code",
   "execution_count": 46,
   "id": "de7e9ebc",
   "metadata": {},
   "outputs": [
    {
     "data": {
      "text/plain": [
       "mean_integrated_profile                  0\n",
       "std_dev_integrated_profile               0\n",
       "excess_kurtosis_integrated_profile    1735\n",
       "skewness_integrated_profile              0\n",
       "mean_dmsnr_curve                         0\n",
       "std_dev_dmsnr_curve                   1178\n",
       "excess_kurtosis_dmsnr_curve              0\n",
       "skewness_dmsnr_curve                   625\n",
       "target_class                             0\n",
       "dtype: int64"
      ]
     },
     "execution_count": 46,
     "metadata": {},
     "output_type": "execute_result"
    }
   ],
   "source": [
    "a.isnull().sum()"
   ]
  },
  {
   "cell_type": "code",
   "execution_count": 47,
   "id": "1ae80e70",
   "metadata": {},
   "outputs": [
    {
     "data": {
      "text/plain": [
       "mean_integrated_profile                0.000000\n",
       "std_dev_integrated_profile             0.000000\n",
       "excess_kurtosis_integrated_profile    13.848978\n",
       "skewness_integrated_profile            0.000000\n",
       "mean_dmsnr_curve                       0.000000\n",
       "std_dev_dmsnr_curve                    9.402937\n",
       "excess_kurtosis_dmsnr_curve            0.000000\n",
       "skewness_dmsnr_curve                   4.988825\n",
       "target_class                           0.000000\n",
       "dtype: float64"
      ]
     },
     "execution_count": 47,
     "metadata": {},
     "output_type": "execute_result"
    }
   ],
   "source": [
    "a.isnull().sum()/len(a)*100"
   ]
  },
  {
   "cell_type": "code",
   "execution_count": 48,
   "id": "bbf03544",
   "metadata": {},
   "outputs": [
    {
     "name": "stdout",
     "output_type": "stream",
     "text": [
      "<class 'pandas.core.frame.DataFrame'>\n",
      "RangeIndex: 12528 entries, 0 to 12527\n",
      "Data columns (total 9 columns):\n",
      " #   Column                              Non-Null Count  Dtype  \n",
      "---  ------                              --------------  -----  \n",
      " 0   mean_integrated_profile             12528 non-null  float64\n",
      " 1   std_dev_integrated_profile          12528 non-null  float64\n",
      " 2   excess_kurtosis_integrated_profile  10793 non-null  float64\n",
      " 3   skewness_integrated_profile         12528 non-null  float64\n",
      " 4   mean_dmsnr_curve                    12528 non-null  float64\n",
      " 5   std_dev_dmsnr_curve                 11350 non-null  float64\n",
      " 6   excess_kurtosis_dmsnr_curve         12528 non-null  float64\n",
      " 7   skewness_dmsnr_curve                11903 non-null  float64\n",
      " 8   target_class                        12528 non-null  float64\n",
      "dtypes: float64(9)\n",
      "memory usage: 881.0 KB\n"
     ]
    }
   ],
   "source": [
    "a.info()"
   ]
  },
  {
   "cell_type": "code",
   "execution_count": 49,
   "id": "22631c9c",
   "metadata": {},
   "outputs": [
    {
     "data": {
      "text/plain": [
       "0.0    11375\n",
       "1.0     1153\n",
       "Name: target_class, dtype: int64"
      ]
     },
     "execution_count": 49,
     "metadata": {},
     "output_type": "execute_result"
    }
   ],
   "source": [
    "a['target_class'].value_counts()"
   ]
  },
  {
   "cell_type": "code",
   "execution_count": 50,
   "id": "0395a6d2",
   "metadata": {},
   "outputs": [
    {
     "data": {
      "text/plain": [
       "([<matplotlib.patches.Wedge at 0x1eb79fbe910>,\n",
       "  <matplotlib.patches.Wedge at 0x1eb79fd9310>],\n",
       " [Text(-1.0543406083257068, 0.31363335542537385, '0'),\n",
       "  Text(1.0543405863023487, -0.31363342946124195, '1')],\n",
       " [Text(-0.5750948772685672, 0.17107273932293116, '91%'),\n",
       "  Text(0.5750948652558264, -0.17107277970613194, '9%')])"
      ]
     },
     "execution_count": 50,
     "metadata": {},
     "output_type": "execute_result"
    },
    {
     "data": {
      "image/png": "[encoded data removed]",
      "text/plain": [
       "<Figure size 640x480 with 1 Axes>"
      ]
     },
     "metadata": {},
     "output_type": "display_data"
    }
   ],
   "source": [
    "plt.pie(a['target_class'].value_counts()/len(a)*100,labels=['0','1'],autopct='%1.0f%%')"
   ]
  },
  {
   "cell_type": "code",
   "execution_count": 51,
   "id": "e41dacb1",
   "metadata": {},
   "outputs": [],
   "source": [
    "a=a.replace('?',np.nan)"
   ]
  },
  {
   "cell_type": "code",
   "execution_count": 52,
   "id": "2f00765c",
   "metadata": {},
   "outputs": [
    {
     "data": {
      "image/png": "[encoded data removed]",
      "text/plain": [
       "<Figure size 640x480 with 1 Axes>"
      ]
     },
     "metadata": {},
     "output_type": "display_data"
    }
   ],
   "source": [
    "sns.boxplot(data=a)\n",
    "plt.xticks(rotation=90)\n",
    "plt.show()"
   ]
  },
  {
   "cell_type": "code",
   "execution_count": 53,
   "id": "ba785507",
   "metadata": {},
   "outputs": [
    {
     "data": {
      "text/html": [
       "<div>\n",
       "<style scoped>\n",
       "    .dataframe tbody tr th:only-of-type {\n",
       "        vertical-align: middle;\n",
       "    }\n",
       "\n",
       "    .dataframe tbody tr th {\n",
       "        vertical-align: top;\n",
       "    }\n",
       "\n",
       "    .dataframe thead th {\n",
       "        text-align: right;\n",
       "    }\n",
       "</style>\n",
       "<table border=\"1\" class=\"dataframe\">\n",
       "  <thead>\n",
       "    <tr style=\"text-align: right;\">\n",
       "      <th></th>\n",
       "      <th>mean_integrated_profile</th>\n",
       "      <th>std_dev_integrated_profile</th>\n",
       "      <th>excess_kurtosis_integrated_profile</th>\n",
       "      <th>skewness_integrated_profile</th>\n",
       "      <th>mean_dmsnr_curve</th>\n",
       "      <th>std_dev_dmsnr_curve</th>\n",
       "      <th>excess_kurtosis_dmsnr_curve</th>\n",
       "      <th>skewness_dmsnr_curve</th>\n",
       "      <th>target_class</th>\n",
       "    </tr>\n",
       "  </thead>\n",
       "  <tbody>\n",
       "    <tr>\n",
       "      <th>0</th>\n",
       "      <td>121.156250</td>\n",
       "      <td>48.372971</td>\n",
       "      <td>0.375485</td>\n",
       "      <td>-0.013165</td>\n",
       "      <td>3.168896</td>\n",
       "      <td>18.399367</td>\n",
       "      <td>7.449874</td>\n",
       "      <td>65.159298</td>\n",
       "      <td>0.0</td>\n",
       "    </tr>\n",
       "    <tr>\n",
       "      <th>1</th>\n",
       "      <td>76.968750</td>\n",
       "      <td>36.175557</td>\n",
       "      <td>0.712898</td>\n",
       "      <td>3.388719</td>\n",
       "      <td>2.399666</td>\n",
       "      <td>17.570997</td>\n",
       "      <td>9.414652</td>\n",
       "      <td>102.722975</td>\n",
       "      <td>0.0</td>\n",
       "    </tr>\n",
       "    <tr>\n",
       "      <th>2</th>\n",
       "      <td>130.585938</td>\n",
       "      <td>53.229534</td>\n",
       "      <td>0.133408</td>\n",
       "      <td>-0.297242</td>\n",
       "      <td>2.743311</td>\n",
       "      <td>22.362553</td>\n",
       "      <td>8.508364</td>\n",
       "      <td>74.031324</td>\n",
       "      <td>0.0</td>\n",
       "    </tr>\n",
       "    <tr>\n",
       "      <th>3</th>\n",
       "      <td>156.398438</td>\n",
       "      <td>48.865942</td>\n",
       "      <td>-0.215989</td>\n",
       "      <td>-0.171294</td>\n",
       "      <td>17.471572</td>\n",
       "      <td>NaN</td>\n",
       "      <td>2.958066</td>\n",
       "      <td>7.197842</td>\n",
       "      <td>0.0</td>\n",
       "    </tr>\n",
       "    <tr>\n",
       "      <th>4</th>\n",
       "      <td>84.804688</td>\n",
       "      <td>36.117659</td>\n",
       "      <td>0.825013</td>\n",
       "      <td>3.274125</td>\n",
       "      <td>2.790134</td>\n",
       "      <td>20.618009</td>\n",
       "      <td>8.405008</td>\n",
       "      <td>76.291128</td>\n",
       "      <td>0.0</td>\n",
       "    </tr>\n",
       "  </tbody>\n",
       "</table>\n",
       "</div>"
      ],
      "text/plain": [
       "   mean_integrated_profile  std_dev_integrated_profile  \\\n",
       "0               121.156250                   48.372971   \n",
       "1                76.968750                   36.175557   \n",
       "2               130.585938                   53.229534   \n",
       "3               156.398438                   48.865942   \n",
       "4                84.804688                   36.117659   \n",
       "\n",
       "   excess_kurtosis_integrated_profile  skewness_integrated_profile  \\\n",
       "0                            0.375485                    -0.013165   \n",
       "1                            0.712898                     3.388719   \n",
       "2                            0.133408                    -0.297242   \n",
       "3                           -0.215989                    -0.171294   \n",
       "4                            0.825013                     3.274125   \n",
       "\n",
       "   mean_dmsnr_curve  std_dev_dmsnr_curve  excess_kurtosis_dmsnr_curve  \\\n",
       "0          3.168896            18.399367                     7.449874   \n",
       "1          2.399666            17.570997                     9.414652   \n",
       "2          2.743311            22.362553                     8.508364   \n",
       "3         17.471572                  NaN                     2.958066   \n",
       "4          2.790134            20.618009                     8.405008   \n",
       "\n",
       "   skewness_dmsnr_curve  target_class  \n",
       "0             65.159298           0.0  \n",
       "1            102.722975           0.0  \n",
       "2             74.031324           0.0  \n",
       "3              7.197842           0.0  \n",
       "4             76.291128           0.0  "
      ]
     },
     "execution_count": 53,
     "metadata": {},
     "output_type": "execute_result"
    }
   ],
   "source": [
    "a.head()"
   ]
  },
  {
   "cell_type": "markdown",
   "id": "8f0383b4",
   "metadata": {},
   "source": [
    "## Q4. Impute missing categorical variables with the most frequent value"
   ]
  },
  {
   "cell_type": "code",
   "execution_count": 56,
   "id": "23d1c8d3",
   "metadata": {},
   "outputs": [],
   "source": [
    "from sklearn.impute import SimpleImputer\n",
    "imputer = SimpleImputer(strategy='most_frequent')\n",
    "a['excess_kurtosis_integrated_profile']=imputer.fit_transform(a[['excess_kurtosis_integrated_profile']])\n",
    "a['std_dev_dmsnr_curve']=imputer.fit_transform(a[['std_dev_dmsnr_curve']])\n",
    "a['skewness_dmsnr_curve']=imputer.fit_transform(a[['skewness_dmsnr_curve']])"
   ]
  },
  {
   "cell_type": "code",
   "execution_count": 57,
   "id": "5baf4a76",
   "metadata": {},
   "outputs": [
    {
     "data": {
      "text/plain": [
       "mean_integrated_profile               0.0\n",
       "std_dev_integrated_profile            0.0\n",
       "excess_kurtosis_integrated_profile    0.0\n",
       "skewness_integrated_profile           0.0\n",
       "mean_dmsnr_curve                      0.0\n",
       "std_dev_dmsnr_curve                   0.0\n",
       "excess_kurtosis_dmsnr_curve           0.0\n",
       "skewness_dmsnr_curve                  0.0\n",
       "target_class                          0.0\n",
       "dtype: float64"
      ]
     },
     "execution_count": 57,
     "metadata": {},
     "output_type": "execute_result"
    }
   ],
   "source": [
    "a.isnull().sum()/len(a)*100"
   ]
  },
  {
   "cell_type": "markdown",
   "id": "e738994d",
   "metadata": {},
   "source": [
    "Q3 Check the distribution of variables"
   ]
  },
  {
   "cell_type": "code",
   "execution_count": 58,
   "id": "95e4f20a",
   "metadata": {},
   "outputs": [
    {
     "data": {
      "image/png": "[encoded data removed]",
      "text/plain": [
       "<Figure size 1000x1000 with 9 Axes>"
      ]
     },
     "metadata": {},
     "output_type": "display_data"
    }
   ],
   "source": [
    "a.hist(figsize=(10,10))\n",
    "plt.show()"
   ]
  },
  {
   "cell_type": "markdown",
   "id": "c8d4c2aa",
   "metadata": {},
   "source": [
    "## Q5. Feature Scaling"
   ]
  },
  {
   "cell_type": "code",
   "execution_count": 63,
   "id": "694f4eba",
   "metadata": {},
   "outputs": [],
   "source": [
    "y=a['target_class']\n",
    "a.drop('target_class',axis=1,inplace=True)"
   ]
  },
  {
   "cell_type": "code",
   "execution_count": 64,
   "id": "e659013b",
   "metadata": {},
   "outputs": [
    {
     "data": {
      "text/html": [
       "<div>\n",
       "<style scoped>\n",
       "    .dataframe tbody tr th:only-of-type {\n",
       "        vertical-align: middle;\n",
       "    }\n",
       "\n",
       "    .dataframe tbody tr th {\n",
       "        vertical-align: top;\n",
       "    }\n",
       "\n",
       "    .dataframe thead th {\n",
       "        text-align: right;\n",
       "    }\n",
       "</style>\n",
       "<table border=\"1\" class=\"dataframe\">\n",
       "  <thead>\n",
       "    <tr style=\"text-align: right;\">\n",
       "      <th></th>\n",
       "      <th>mean_integrated_profile</th>\n",
       "      <th>std_dev_integrated_profile</th>\n",
       "      <th>excess_kurtosis_integrated_profile</th>\n",
       "      <th>skewness_integrated_profile</th>\n",
       "      <th>mean_dmsnr_curve</th>\n",
       "      <th>std_dev_dmsnr_curve</th>\n",
       "      <th>excess_kurtosis_dmsnr_curve</th>\n",
       "      <th>skewness_dmsnr_curve</th>\n",
       "    </tr>\n",
       "  </thead>\n",
       "  <tbody>\n",
       "    <tr>\n",
       "      <th>0</th>\n",
       "      <td>121.156250</td>\n",
       "      <td>48.372971</td>\n",
       "      <td>0.375485</td>\n",
       "      <td>-0.013165</td>\n",
       "      <td>3.168896</td>\n",
       "      <td>18.399367</td>\n",
       "      <td>7.449874</td>\n",
       "      <td>65.159298</td>\n",
       "    </tr>\n",
       "    <tr>\n",
       "      <th>1</th>\n",
       "      <td>76.968750</td>\n",
       "      <td>36.175557</td>\n",
       "      <td>0.712898</td>\n",
       "      <td>3.388719</td>\n",
       "      <td>2.399666</td>\n",
       "      <td>17.570997</td>\n",
       "      <td>9.414652</td>\n",
       "      <td>102.722975</td>\n",
       "    </tr>\n",
       "    <tr>\n",
       "      <th>2</th>\n",
       "      <td>130.585938</td>\n",
       "      <td>53.229534</td>\n",
       "      <td>0.133408</td>\n",
       "      <td>-0.297242</td>\n",
       "      <td>2.743311</td>\n",
       "      <td>22.362553</td>\n",
       "      <td>8.508364</td>\n",
       "      <td>74.031324</td>\n",
       "    </tr>\n",
       "    <tr>\n",
       "      <th>3</th>\n",
       "      <td>156.398438</td>\n",
       "      <td>48.865942</td>\n",
       "      <td>-0.215989</td>\n",
       "      <td>-0.171294</td>\n",
       "      <td>17.471572</td>\n",
       "      <td>7.370432</td>\n",
       "      <td>2.958066</td>\n",
       "      <td>7.197842</td>\n",
       "    </tr>\n",
       "    <tr>\n",
       "      <th>4</th>\n",
       "      <td>84.804688</td>\n",
       "      <td>36.117659</td>\n",
       "      <td>0.825013</td>\n",
       "      <td>3.274125</td>\n",
       "      <td>2.790134</td>\n",
       "      <td>20.618009</td>\n",
       "      <td>8.405008</td>\n",
       "      <td>76.291128</td>\n",
       "    </tr>\n",
       "    <tr>\n",
       "      <th>...</th>\n",
       "      <td>...</td>\n",
       "      <td>...</td>\n",
       "      <td>...</td>\n",
       "      <td>...</td>\n",
       "      <td>...</td>\n",
       "      <td>...</td>\n",
       "      <td>...</td>\n",
       "      <td>...</td>\n",
       "    </tr>\n",
       "    <tr>\n",
       "      <th>12523</th>\n",
       "      <td>124.312500</td>\n",
       "      <td>53.179053</td>\n",
       "      <td>-0.012418</td>\n",
       "      <td>-0.556021</td>\n",
       "      <td>7.186455</td>\n",
       "      <td>29.308266</td>\n",
       "      <td>4.531382</td>\n",
       "      <td>21.725143</td>\n",
       "    </tr>\n",
       "    <tr>\n",
       "      <th>12524</th>\n",
       "      <td>115.617188</td>\n",
       "      <td>46.784600</td>\n",
       "      <td>0.218177</td>\n",
       "      <td>0.226757</td>\n",
       "      <td>6.140468</td>\n",
       "      <td>7.370432</td>\n",
       "      <td>5.732201</td>\n",
       "      <td>34.357283</td>\n",
       "    </tr>\n",
       "    <tr>\n",
       "      <th>12525</th>\n",
       "      <td>116.031250</td>\n",
       "      <td>43.213846</td>\n",
       "      <td>0.663456</td>\n",
       "      <td>0.433088</td>\n",
       "      <td>0.785117</td>\n",
       "      <td>11.628149</td>\n",
       "      <td>17.055215</td>\n",
       "      <td>312.204325</td>\n",
       "    </tr>\n",
       "    <tr>\n",
       "      <th>12526</th>\n",
       "      <td>135.664062</td>\n",
       "      <td>49.933749</td>\n",
       "      <td>-0.089940</td>\n",
       "      <td>-0.226726</td>\n",
       "      <td>3.859532</td>\n",
       "      <td>21.501505</td>\n",
       "      <td>7.398395</td>\n",
       "      <td>62.334018</td>\n",
       "    </tr>\n",
       "    <tr>\n",
       "      <th>12527</th>\n",
       "      <td>120.726562</td>\n",
       "      <td>50.472256</td>\n",
       "      <td>0.346178</td>\n",
       "      <td>0.184797</td>\n",
       "      <td>0.769231</td>\n",
       "      <td>11.792603</td>\n",
       "      <td>17.662222</td>\n",
       "      <td>329.548016</td>\n",
       "    </tr>\n",
       "  </tbody>\n",
       "</table>\n",
       "<p>12528 rows × 8 columns</p>\n",
       "</div>"
      ],
      "text/plain": [
       "       mean_integrated_profile  std_dev_integrated_profile  \\\n",
       "0                   121.156250                   48.372971   \n",
       "1                    76.968750                   36.175557   \n",
       "2                   130.585938                   53.229534   \n",
       "3                   156.398438                   48.865942   \n",
       "4                    84.804688                   36.117659   \n",
       "...                        ...                         ...   \n",
       "12523               124.312500                   53.179053   \n",
       "12524               115.617188                   46.784600   \n",
       "12525               116.031250                   43.213846   \n",
       "12526               135.664062                   49.933749   \n",
       "12527               120.726562                   50.472256   \n",
       "\n",
       "       excess_kurtosis_integrated_profile  skewness_integrated_profile  \\\n",
       "0                                0.375485                    -0.013165   \n",
       "1                                0.712898                     3.388719   \n",
       "2                                0.133408                    -0.297242   \n",
       "3                               -0.215989                    -0.171294   \n",
       "4                                0.825013                     3.274125   \n",
       "...                                   ...                          ...   \n",
       "12523                           -0.012418                    -0.556021   \n",
       "12524                            0.218177                     0.226757   \n",
       "12525                            0.663456                     0.433088   \n",
       "12526                           -0.089940                    -0.226726   \n",
       "12527                            0.346178                     0.184797   \n",
       "\n",
       "       mean_dmsnr_curve  std_dev_dmsnr_curve  excess_kurtosis_dmsnr_curve  \\\n",
       "0              3.168896            18.399367                     7.449874   \n",
       "1              2.399666            17.570997                     9.414652   \n",
       "2              2.743311            22.362553                     8.508364   \n",
       "3             17.471572             7.370432                     2.958066   \n",
       "4              2.790134            20.618009                     8.405008   \n",
       "...                 ...                  ...                          ...   \n",
       "12523          7.186455            29.308266                     4.531382   \n",
       "12524          6.140468             7.370432                     5.732201   \n",
       "12525          0.785117            11.628149                    17.055215   \n",
       "12526          3.859532            21.501505                     7.398395   \n",
       "12527          0.769231            11.792603                    17.662222   \n",
       "\n",
       "       skewness_dmsnr_curve  \n",
       "0                 65.159298  \n",
       "1                102.722975  \n",
       "2                 74.031324  \n",
       "3                  7.197842  \n",
       "4                 76.291128  \n",
       "...                     ...  \n",
       "12523             21.725143  \n",
       "12524             34.357283  \n",
       "12525            312.204325  \n",
       "12526             62.334018  \n",
       "12527            329.548016  \n",
       "\n",
       "[12528 rows x 8 columns]"
      ]
     },
     "execution_count": 64,
     "metadata": {},
     "output_type": "execute_result"
    }
   ],
   "source": [
    "x=a\n",
    "x"
   ]
  },
  {
   "cell_type": "code",
   "execution_count": 65,
   "id": "76dbb41c",
   "metadata": {},
   "outputs": [
    {
     "data": {
      "text/plain": [
       "array([[ 0.39398903,  0.27225212,  0.1631161 , ..., -0.31675259,\n",
       "        -0.19481754, -0.3656857 ],\n",
       "       [-1.32725743, -1.52127273,  0.43302828, ..., -0.35929842,\n",
       "         0.23837256, -0.22035503],\n",
       "       [ 0.76130595,  0.98636783, -0.03053182, ..., -0.11319969,\n",
       "         0.038556  , -0.33136058],\n",
       "       ...,\n",
       "       [ 0.19435365, -0.48635278,  0.39347723, ..., -0.66452854,\n",
       "         1.92294752,  0.59011047],\n",
       "       [ 0.95911539,  0.50175114, -0.20919853, ..., -0.15742391,\n",
       "        -0.20616758, -0.37661647],\n",
       "       [ 0.37725131,  0.58093396,  0.13967243, ..., -0.65608207,\n",
       "         2.05677923,  0.65721173]])"
      ]
     },
     "execution_count": 65,
     "metadata": {},
     "output_type": "execute_result"
    }
   ],
   "source": [
    "from sklearn.preprocessing import StandardScaler\n",
    "sc=StandardScaler()\n",
    "x_scaled=sc.fit_transform(x)\n",
    "x_scaled"
   ]
  },
  {
   "cell_type": "markdown",
   "id": "9ecca015",
   "metadata": {},
   "source": [
    "## Q6. Split data into separate training and test set"
   ]
  },
  {
   "cell_type": "code",
   "execution_count": 66,
   "id": "34a5ae57",
   "metadata": {},
   "outputs": [],
   "source": [
    "from sklearn.naive_bayes import GaussianNB\n",
    "from sklearn.model_selection import train_test_split\n",
    "from sklearn import metrics \n",
    "from sklearn.metrics import accuracy_score,confusion_matrix\n",
    "X_train, X_test, y_train, y_test = train_test_split(x_scaled,y, test_size=0.2,random_state=42)"
   ]
  },
  {
   "cell_type": "markdown",
   "id": "da9bda36",
   "metadata": {},
   "source": [
    "## Q7. Model training"
   ]
  },
  {
   "cell_type": "code",
   "execution_count": 67,
   "id": "379f328e",
   "metadata": {},
   "outputs": [
    {
     "data": {
      "text/html": [
       "<style>#sk-container-id-1 {color: black;}#sk-container-id-1 pre{padding: 0;}#sk-container-id-1 div.sk-toggleable {background-color: white;}#sk-container-id-1 label.sk-toggleable__label {cursor: pointer;display: block;width: 100%;margin-bottom: 0;padding: 0.3em;box-sizing: border-box;text-align: center;}#sk-container-id-1 label.sk-toggleable__label-arrow:before {content: \"▸\";float: left;margin-right: 0.25em;color: #696969;}#sk-container-id-1 label.sk-toggleable__label-arrow:hover:before {color: black;}#sk-container-id-1 div.sk-estimator:hover label.sk-toggleable__label-arrow:before {color: black;}#sk-container-id-1 div.sk-toggleable__content {max-height: 0;max-width: 0;overflow: hidden;text-align: left;background-color: #f0f8ff;}#sk-container-id-1 div.sk-toggleable__content pre {margin: 0.2em;color: black;border-radius: 0.25em;background-color: #f0f8ff;}#sk-container-id-1 input.sk-toggleable__control:checked~div.sk-toggleable__content {max-height: 200px;max-width: 100%;overflow: auto;}#sk-container-id-1 input.sk-toggleable__control:checked~label.sk-toggleable__label-arrow:before {content: \"▾\";}#sk-container-id-1 div.sk-estimator input.sk-toggleable__control:checked~label.sk-toggleable__label {background-color: #d4ebff;}#sk-container-id-1 div.sk-label input.sk-toggleable__control:checked~label.sk-toggleable__label {background-color: #d4ebff;}#sk-container-id-1 input.sk-hidden--visually {border: 0;clip: rect(1px 1px 1px 1px);clip: rect(1px, 1px, 1px, 1px);height: 1px;margin: -1px;overflow: hidden;padding: 0;position: absolute;width: 1px;}#sk-container-id-1 div.sk-estimator {font-family: monospace;background-color: #f0f8ff;border: 1px dotted black;border-radius: 0.25em;box-sizing: border-box;margin-bottom: 0.5em;}#sk-container-id-1 div.sk-estimator:hover {background-color: #d4ebff;}#sk-container-id-1 div.sk-parallel-item::after {content: \"\";width: 100%;border-bottom: 1px solid gray;flex-grow: 1;}#sk-container-id-1 div.sk-label:hover label.sk-toggleable__label {background-color: #d4ebff;}#sk-container-id-1 div.sk-serial::before {content: \"\";position: absolute;border-left: 1px solid gray;box-sizing: border-box;top: 0;bottom: 0;left: 50%;z-index: 0;}#sk-container-id-1 div.sk-serial {display: flex;flex-direction: column;align-items: center;background-color: white;padding-right: 0.2em;padding-left: 0.2em;position: relative;}#sk-container-id-1 div.sk-item {position: relative;z-index: 1;}#sk-container-id-1 div.sk-parallel {display: flex;align-items: stretch;justify-content: center;background-color: white;position: relative;}#sk-container-id-1 div.sk-item::before, #sk-container-id-1 div.sk-parallel-item::before {content: \"\";position: absolute;border-left: 1px solid gray;box-sizing: border-box;top: 0;bottom: 0;left: 50%;z-index: -1;}#sk-container-id-1 div.sk-parallel-item {display: flex;flex-direction: column;z-index: 1;position: relative;background-color: white;}#sk-container-id-1 div.sk-parallel-item:first-child::after {align-self: flex-end;width: 50%;}#sk-container-id-1 div.sk-parallel-item:last-child::after {align-self: flex-start;width: 50%;}#sk-container-id-1 div.sk-parallel-item:only-child::after {width: 0;}#sk-container-id-1 div.sk-dashed-wrapped {border: 1px dashed gray;margin: 0 0.4em 0.5em 0.4em;box-sizing: border-box;padding-bottom: 0.4em;background-color: white;}#sk-container-id-1 div.sk-label label {font-family: monospace;font-weight: bold;display: inline-block;line-height: 1.2em;}#sk-container-id-1 div.sk-label-container {text-align: center;}#sk-container-id-1 div.sk-container {/* jupyter's `normalize.less` sets `[hidden] { display: none; }` but bootstrap.min.css set `[hidden] { display: none !important; }` so we also need the `!important` here to be able to override the default hidden behavior on the sphinx rendered scikit-learn.org. See: https://github.com/scikit-learn/scikit-learn/issues/21755 */display: inline-block !important;position: relative;}#sk-container-id-1 div.sk-text-repr-fallback {display: none;}</style><div id=\"sk-container-id-1\" class=\"sk-top-container\"><div class=\"sk-text-repr-fallback\"><pre>GaussianNB()</pre><b>In a Jupyter environment, please rerun this cell to show the HTML representation or trust the notebook. <br />On GitHub, the HTML representation is unable to render, please try loading this page with nbviewer.org.</b></div><div class=\"sk-container\" hidden><div class=\"sk-item\"><div class=\"sk-estimator sk-toggleable\"><input class=\"sk-toggleable__control sk-hidden--visually\" id=\"sk-estimator-id-1\" type=\"checkbox\" checked><label for=\"sk-estimator-id-1\" class=\"sk-toggleable__label sk-toggleable__label-arrow\">GaussianNB</label><div class=\"sk-toggleable__content\"><pre>GaussianNB()</pre></div></div></div></div></div>"
      ],
      "text/plain": [
       "GaussianNB()"
      ]
     },
     "execution_count": 67,
     "metadata": {},
     "output_type": "execute_result"
    }
   ],
   "source": [
    "model=GaussianNB()\n",
    "model.fit(X_train,y_train)"
   ]
  },
  {
   "cell_type": "markdown",
   "id": "13762616",
   "metadata": {},
   "source": [
    "## Q8. Predict the results"
   ]
  },
  {
   "cell_type": "code",
   "execution_count": 68,
   "id": "cc7256a5",
   "metadata": {},
   "outputs": [
    {
     "data": {
      "text/plain": [
       "array([0., 0., 0., ..., 0., 0., 0.])"
      ]
     },
     "execution_count": 68,
     "metadata": {},
     "output_type": "execute_result"
    }
   ],
   "source": [
    "y_pred_test=model.predict(X_test)\n",
    "y_pred_train=model.predict(X_train)\n",
    "y_pred_test"
   ]
  },
  {
   "cell_type": "markdown",
   "id": "11fc4ade",
   "metadata": {},
   "source": [
    "## Q9 Check the accuracy score                                                                                                            Q10 Compare the train-set and test-set accuracy"
   ]
  },
  {
   "cell_type": "code",
   "execution_count": 69,
   "id": "ebf368c3",
   "metadata": {},
   "outputs": [
    {
     "data": {
      "text/plain": [
       "(0.9433359936153233, 0.944122929554979)"
      ]
     },
     "execution_count": 69,
     "metadata": {},
     "output_type": "execute_result"
    }
   ],
   "source": [
    "accuracy_test= accuracy_score(y_test, y_pred_test)\n",
    "accuracy_train=accuracy_score(y_train,y_pred_train)\n",
    "accuracy_test,accuracy_train"
   ]
  },
  {
   "cell_type": "markdown",
   "id": "44a70373",
   "metadata": {},
   "source": [
    "## Q11.Visualize confusion matrix with seaborn heatmap"
   ]
  },
  {
   "cell_type": "code",
   "execution_count": 70,
   "id": "3aed60b8",
   "metadata": {},
   "outputs": [],
   "source": [
    "cm = confusion_matrix(y_test, y_pred_test)"
   ]
  },
  {
   "cell_type": "code",
   "execution_count": 71,
   "id": "0ee5eba8",
   "metadata": {},
   "outputs": [
    {
     "data": {
      "image/png": "[encoded data removed]",
      "text/plain": [
       "<Figure size 800x600 with 2 Axes>"
      ]
     },
     "metadata": {},
     "output_type": "display_data"
    }
   ],
   "source": [
    "plt.figure(figsize=(8, 6))\n",
    "sns.heatmap(cm, annot=True, fmt='d', cmap='Blues', xticklabels=['Class 0', 'Class 1'], yticklabels=['Class 0', 'Class 1'])\n",
    "plt.xlabel('Predicted labels')\n",
    "plt.ylabel('True labels')\n",
    "plt.title('Confusion Matrix')\n",
    "plt.show()"
   ]
  },
  {
   "cell_type": "markdown",
   "id": "5dd86472",
   "metadata": {},
   "source": [
    "## Q12. Generate Classification error"
   ]
  },
  {
   "cell_type": "code",
   "execution_count": 72,
   "id": "7cb4099a",
   "metadata": {},
   "outputs": [
    {
     "name": "stdout",
     "output_type": "stream",
     "text": [
      "Classification Error: 0.056664006384676724\n"
     ]
    }
   ],
   "source": [
    "classification_error = 1 - accuracy_test\n",
    "print(\"Classification Error:\", classification_error)"
   ]
  },
  {
   "cell_type": "markdown",
   "id": "0fdb9c7c",
   "metadata": {},
   "source": [
    "## Q13. Generate Classification Report"
   ]
  },
  {
   "cell_type": "code",
   "execution_count": 73,
   "id": "89ecc7e1",
   "metadata": {},
   "outputs": [
    {
     "name": "stdout",
     "output_type": "stream",
     "text": [
      "Classification Report:\n",
      "              precision    recall  f1-score   support\n",
      "\n",
      "         0.0       0.98      0.96      0.97      2279\n",
      "         1.0       0.65      0.82      0.72       227\n",
      "\n",
      "    accuracy                           0.94      2506\n",
      "   macro avg       0.81      0.89      0.85      2506\n",
      "weighted avg       0.95      0.94      0.95      2506\n",
      "\n"
     ]
    }
   ],
   "source": [
    "from sklearn.metrics import classification_report\n",
    "report = classification_report(y_test, y_pred_test)\n",
    "print(\"Classification Report:\")\n",
    "print(report)"
   ]
  },
  {
   "cell_type": "markdown",
   "id": "a154f3bc",
   "metadata": {},
   "source": [
    "## Q14. Calculate class probabilities and store the probabilities in data frame with appropriate heading"
   ]
  },
  {
   "cell_type": "code",
   "execution_count": 74,
   "id": "de74557a",
   "metadata": {},
   "outputs": [
    {
     "name": "stdout",
     "output_type": "stream",
     "text": [
      "      Probability_Class_0  Probability_Class_1\n",
      "0                0.999971         2.926897e-05\n",
      "1                1.000000         5.329342e-08\n",
      "2                1.000000         9.258256e-11\n",
      "3                1.000000         5.051226e-08\n",
      "4                0.000003         9.999965e-01\n",
      "...                   ...                  ...\n",
      "2501             0.999998         2.274937e-06\n",
      "2502             1.000000         7.189228e-08\n",
      "2503             1.000000         3.031259e-07\n",
      "2504             0.999997         3.387207e-06\n",
      "2505             0.999999         1.045662e-06\n",
      "\n",
      "[2506 rows x 2 columns]\n"
     ]
    }
   ],
   "source": [
    "class_probabilities = model.predict_proba(X_test)\n",
    "probabilities_df = pd.DataFrame(class_probabilities, columns=['Probability_Class_0', 'Probability_Class_1'])\n",
    "print(probabilities_df)"
   ]
  },
  {
   "cell_type": "markdown",
   "id": "c592cba1",
   "metadata": {},
   "source": [
    "## Q15.  Plot histogram of predicted probabilities"
   ]
  },
  {
   "cell_type": "code",
   "execution_count": 75,
   "id": "ce4e1961",
   "metadata": {},
   "outputs": [
    {
     "data": {
      "text/plain": [
       "array([[<Axes: title={'center': 'Probability_Class_0'}>,\n",
       "        <Axes: title={'center': 'Probability_Class_1'}>]], dtype=object)"
      ]
     },
     "execution_count": 75,
     "metadata": {},
     "output_type": "execute_result"
    },
    {
     "data": {
      "image/png": "[encoded data removed]",
      "text/plain": [
       "<Figure size 640x480 with 2 Axes>"
      ]
     },
     "metadata": {},
     "output_type": "display_data"
    }
   ],
   "source": [
    "probabilities_df.hist()"
   ]
  },
  {
   "cell_type": "markdown",
   "id": "e72c1cc3",
   "metadata": {},
   "source": [
    "## Q16. Plot ROC Curve"
   ]
  },
  {
   "cell_type": "code",
   "execution_count": 76,
   "id": "17188f9f",
   "metadata": {},
   "outputs": [
    {
     "data": {
      "image/png": "[encoded data removed]",
      "text/plain": [
       "<Figure size 800x600 with 1 Axes>"
      ]
     },
     "metadata": {},
     "output_type": "display_data"
    }
   ],
   "source": [
    "from sklearn.metrics import roc_curve, roc_auc_score\n",
    "y_scores = model.predict_proba(X_test)[:, 1]\n",
    "fpr, tpr, thresholds = roc_curve(y_test, y_scores)\n",
    "roc_auc = roc_auc_score(y_test, y_scores)\n",
    "plt.figure(figsize=(8, 6))\n",
    "plt.plot(fpr, tpr, color='darkorange', lw=2, label=f'ROC curve (area = {roc_auc:.2f})')\n",
    "plt.plot([0, 1], [0, 1], color='navy', lw=2, linestyle='--')\n",
    "plt.xlim([0.0, 1.0])\n",
    "plt.ylim([0.0, 1.05])\n",
    "plt.xlabel('False Positive Rate')\n",
    "plt.ylabel('True Positive Rate')\n",
    "plt.title('Receiver Operating Characteristic (ROC) Curve')\n",
    "plt.legend(loc=\"lower right\")\n",
    "plt.show()"
   ]
  },
  {
   "cell_type": "markdown",
   "id": "afd8eaed",
   "metadata": {},
   "source": [
    "## Q17. Compute ROC AUC"
   ]
  },
  {
   "cell_type": "code",
   "execution_count": 77,
   "id": "c574431a",
   "metadata": {},
   "outputs": [
    {
     "name": "stdout",
     "output_type": "stream",
     "text": [
      "ROC AUC Score: 0.9520308969271245\n"
     ]
    }
   ],
   "source": [
    "roc_auc = roc_auc_score(y_test, y_scores)\n",
    "print(\"ROC AUC Score:\", roc_auc)"
   ]
  },
  {
   "cell_type": "markdown",
   "id": "f19ba382",
   "metadata": {},
   "source": [
    "## Q18. Calculate cross-validated ROC AUC"
   ]
  },
  {
   "cell_type": "code",
   "execution_count": 78,
   "id": "c3d1654e",
   "metadata": {},
   "outputs": [
    {
     "name": "stdout",
     "output_type": "stream",
     "text": [
      "Cross-validated ROC AUC scores: [0.94777794 0.95602112 0.95042291 0.96254658 0.95079408]\n",
      "Mean ROC AUC score: 0.9535125255696684\n"
     ]
    }
   ],
   "source": [
    "from sklearn.model_selection import cross_val_score\n",
    "cv_roc_auc_scores = cross_val_score(model, x, y, cv=5, scoring='roc_auc')\n",
    "\n",
    "print(\"Cross-validated ROC AUC scores:\", cv_roc_auc_scores)\n",
    "print(\"Mean ROC AUC score:\", cv_roc_auc_scores.mean())"
   ]
  },
  {
   "cell_type": "markdown",
   "id": "5cc8d929",
   "metadata": {},
   "source": [
    "## Q19.  Applying 10-Fold Cross Validation"
   ]
  },
  {
   "cell_type": "code",
   "execution_count": 79,
   "id": "d063c5a6",
   "metadata": {},
   "outputs": [
    {
     "name": "stdout",
     "output_type": "stream",
     "text": [
      "Cross-validated scores: [0.94173982 0.94732642 0.9481245  0.94014366 0.9377494  0.94094174\n",
      " 0.94732642 0.95450918 0.93610224 0.94648562]\n"
     ]
    }
   ],
   "source": [
    "cv_scores = cross_val_score(model, x_scaled, y, cv=10)\n",
    "print(\"Cross-validated scores:\", cv_scores)"
   ]
  },
  {
   "cell_type": "markdown",
   "id": "217f5bd7",
   "metadata": {},
   "source": [
    "## Q20. Compute the Average cross-validation score"
   ]
  },
  {
   "cell_type": "code",
   "execution_count": 80,
   "id": "93d234d9",
   "metadata": {},
   "outputs": [
    {
     "name": "stdout",
     "output_type": "stream",
     "text": [
      "Mean score: 0.9440448992705047\n"
     ]
    }
   ],
   "source": [
    "print(\"Mean score:\", np.mean(cv_scores))\n"
   ]
  },
  {
   "cell_type": "code",
   "execution_count": null,
   "id": "b42cf1df",
   "metadata": {},
   "outputs": [],
   "source": []
  }
 ],
 "metadata": {
  "kernelspec": {
   "display_name": "Python 3 (ipykernel)",
   "language": "python",
   "name": "python3"
  },
  "language_info": {
   "codemirror_mode": {
    "name": "ipython",
    "version": 3
   },
   "file_extension": ".py",
   "mimetype": "text/x-python",
   "name": "python",
   "nbconvert_exporter": "python",
   "pygments_lexer": "ipython3",
   "version": "3.11.4"
  }
 },
 "nbformat": 4,
 "nbformat_minor": 5
}
